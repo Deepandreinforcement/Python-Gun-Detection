{
 "cells": [
  {
   "cell_type": "code",
   "execution_count": null,
   "id": "75fb43ba",
   "metadata": {},
   "outputs": [],
   "source": [
    "from ultralytics import YOLO\n",
    "# Burada kullanacağımız modeli tanımlıyoruz.\n",
    "model= YOLO(\"gun_detect.pt\") "
   ]
  },
  {
   "cell_type": "markdown",
   "id": "82548232",
   "metadata": {},
   "source": [
    "Model 5 farklı silah türünü tespit edebiliyor: Granede(El bombası), Knife(Bıçak), Missile(Füze), Pistol(Tabanca), Rifle(Tüfek)"
   ]
  },
  {
   "cell_type": "markdown",
   "id": "19924aa8",
   "metadata": {},
   "source": [
    "Bu şekilde görselin adını girerek modele görseli veriyoruz. Sonuç görüntü olarak kaydediliyor"
   ]
  },
  {
   "cell_type": "code",
   "execution_count": null,
   "id": "3c60a6bb",
   "metadata": {},
   "outputs": [],
   "source": [
    "results=model.predict(source='img.jpg',save=True)"
   ]
  },
  {
   "cell_type": "markdown",
   "id": "c0ba25cf",
   "metadata": {},
   "source": [
    "Aynı işlemi videolar için videonun adını girerek yapabiliriz"
   ]
  },
  {
   "cell_type": "code",
   "execution_count": null,
   "id": "0b0ca505",
   "metadata": {},
   "outputs": [],
   "source": [
    "results=model.predict(source='video2.mp4',save=True)"
   ]
  },
  {
   "cell_type": "markdown",
   "id": "01585682",
   "metadata": {},
   "source": [
    "# OpenCV ile Kullanımı"
   ]
  },
  {
   "cell_type": "markdown",
   "id": "284d70e1",
   "metadata": {},
   "source": [
    "Modeli bu şekilde çalıştırmak yerine opencv kütüphanesiyle de kullanabilirsiniz. "
   ]
  },
  {
   "cell_type": "markdown",
   "id": "efd81c6a",
   "metadata": {},
   "source": [
    "Kullanacağımız kütüphaneleri dahil ediyoruz."
   ]
  },
  {
   "cell_type": "code",
   "execution_count": null,
   "id": "1bb3f864",
   "metadata": {},
   "outputs": [],
   "source": [
    "import cv2\n",
    "import numpy as np"
   ]
  },
  {
   "cell_type": "markdown",
   "id": "224772e4",
   "metadata": {},
   "source": [
    "Görseller için buradaki kodu kullanabilirsiniz"
   ]
  },
  {
   "cell_type": "code",
   "execution_count": null,
   "id": "2de37faf",
   "metadata": {},
   "outputs": [],
   "source": [
    "# Resmin adını yazıyoruz.\n",
    "img=cv2.imread('img.jpg')\n",
    "\n",
    "\n",
    "font = cv2.FONT_HERSHEY_SIMPLEX\n",
    "\n",
    "rgb_img=cv2.cvtColor(img,cv2.COLOR_BGR2RGB)\n",
    "results = model(rgb_img,verbose=False) \n",
    "labels=results[0].names\n",
    "\n",
    "# bu for döngüsü kaç tane nesne varsa o kadar döner.\n",
    "# Burada her bir nesnenin konum, score ve sınıflarını buluyoruz.\n",
    "\n",
    "for i in range(len(results[0].boxes)):\n",
    "    x1,y1,x2,y2=results[0].boxes.xyxy[i]\n",
    "    score=results[0].boxes.conf[i]\n",
    "    # Bu hangi sınıfa ait olduğu. Bu değer sayı şeklinde olur.\n",
    "    label=results[0].boxes.cls[i]\n",
    "    x1,y1,x2,y2,score,label=int(x1),int(y1),int(x2),int(y2),float(score),int(label)\n",
    "    # Bu sınıfın adı \n",
    "    name=labels[label]\n",
    "    \n",
    "    \n",
    "    # Bu score için threshold\n",
    "    if score<0.5:\n",
    "        continue\n",
    "\n",
    "    \n",
    "    cv2.rectangle(img,(x1,y1),(x2,y2),(255,0,0),2)\n",
    "\n",
    "    # ekrana sınıf adı ve score değerinin yazılması için kullanılacak metin\n",
    "    text= name+' '+str(format(score, '.2f'))\n",
    "    cv2.putText(img, text,(x1, y1-10), font, 1.2, (102,0,153), 2)\n",
    "    \n",
    "cv2.imshow(\"kamera\",img)\n",
    "\n",
    "cv2.waitKey()\n",
    "cv2.destroyAllWindows()"
   ]
  },
  {
   "cell_type": "code",
   "execution_count": null,
   "id": "83bfe9f7",
   "metadata": {},
   "outputs": [],
   "source": [
    "Video  için buradaki kodu kullanabilirsiniz"
   ]
  },
  {
   "cell_type": "code",
   "execution_count": null,
   "id": "b1fabad8",
   "metadata": {},
   "outputs": [],
   "source": [
    "\n",
    "kamera= cv2.VideoCapture('video.mp4')\n",
    "font = cv2.FONT_HERSHEY_SIMPLEX\n",
    "\n",
    "\n",
    "while True:\n",
    "\n",
    "   \n",
    "    \n",
    "    ret,kare=kamera.read()\n",
    "    \n",
    "    imgs=cv2.cvtColor(kare,cv2.COLOR_BGR2RGB)\n",
    "    results = model(imgs,verbose=False) \n",
    "    labels=results[0].names\n",
    "    for i in range(len(results[0].boxes)):\n",
    "        x1,y1,x2,y2=results[0].boxes.xyxy[i]\n",
    "        score=results[0].boxes.conf[i]\n",
    "        label=results[0].boxes.cls[i]\n",
    "        x1,y1,x2,y2,score,label=int(x1),int(y1),int(x2),int(y2),float(score),int(label)\n",
    "        name=labels[label]\n",
    "        if score<0.5:\n",
    "            continue\n",
    "    \n",
    "\n",
    "        cv2.rectangle(kare,(x1,y1),(x2,y2),(255,0,0),2)\n",
    "        text=name+\" \" + str(format(score, '.2f'))\n",
    "        cv2.putText(kare,text ,(x1, y1-10), font, 1.2, (102,0,153), 2)\n",
    "    \n",
    "\n",
    "    cv2.imshow(\"kamera\",kare)\n",
    "    if cv2.waitKey(1) & 0xFF == ord('q'):\n",
    "        break\n",
    "kamera.release()\n",
    "cv2.destroyAllWindows()"
   ]
  }
 ],
 "metadata": {
  "kernelspec": {
   "display_name": "Python 3 (ipykernel)",
   "language": "python",
   "name": "python3"
  },
  "language_info": {
   "codemirror_mode": {
    "name": "ipython",
    "version": 3
   },
   "file_extension": ".py",
   "mimetype": "text/x-python",
   "name": "python",
   "nbconvert_exporter": "python",
   "pygments_lexer": "ipython3",
   "version": "3.9.13"
  }
 },
 "nbformat": 4,
 "nbformat_minor": 5
}
